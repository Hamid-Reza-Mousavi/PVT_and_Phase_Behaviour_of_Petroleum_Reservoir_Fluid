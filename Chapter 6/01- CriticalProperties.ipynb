{
 "cells": [
  {
   "cell_type": "code",
   "execution_count": 1,
   "id": "c83c2046",
   "metadata": {
    "ExecuteTime": {
     "end_time": "2023-07-12T17:28:09.985896Z",
     "start_time": "2023-07-12T17:28:09.723113Z"
    }
   },
   "outputs": [],
   "source": [
    "import pandas as pd\n",
    "import numpy as np\n",
    "import Tables\n",
    "from CP import CriticalProperties"
   ]
  },
  {
   "cell_type": "markdown",
   "id": "5e222dff",
   "metadata": {},
   "source": [
    "## Lee_Kesler"
   ]
  },
  {
   "cell_type": "code",
   "execution_count": 10,
   "id": "a333cd3d",
   "metadata": {
    "ExecuteTime": {
     "end_time": "2023-07-12T17:29:23.003554Z",
     "start_time": "2023-07-12T17:29:22.984588Z"
    }
   },
   "outputs": [
    {
     "name": "stdout",
     "output_type": "stream",
     "text": [
      "Tc: 700.8785941538462\n",
      "Pc: 1.9564445064800198\n",
      "omega: 0.5842817723515936\n",
      "Zc: 0.23874163221029493\n"
     ]
    }
   ],
   "source": [
    "criticalproperties = CriticalProperties(Unit='SI')\n",
    "lk = criticalproperties.Lee_Kesler(Tb=520, S=0.826, omega_method='Edmister')\n",
    "print('Tc:', criticalproperties.Tc)\n",
    "print('Pc:',criticalproperties.Pc)\n",
    "print('omega:',criticalproperties.omega)\n",
    "print('Zc:',criticalproperties.Zc)"
   ]
  },
  {
   "cell_type": "markdown",
   "id": "82af0b82",
   "metadata": {
    "ExecuteTime": {
     "end_time": "2023-07-11T22:14:40.962215Z",
     "start_time": "2023-07-11T22:14:40.946376Z"
    }
   },
   "source": [
    "## Riazi_Daubert"
   ]
  },
  {
   "cell_type": "code",
   "execution_count": 6,
   "id": "c372d52e",
   "metadata": {
    "ExecuteTime": {
     "end_time": "2023-07-12T17:28:26.802161Z",
     "start_time": "2023-07-12T17:28:26.763184Z"
    }
   },
   "outputs": [
    {
     "data": {
      "text/html": [
       "<div>\n",
       "<style scoped>\n",
       "    .dataframe tbody tr th:only-of-type {\n",
       "        vertical-align: middle;\n",
       "    }\n",
       "\n",
       "    .dataframe tbody tr th {\n",
       "        vertical-align: top;\n",
       "    }\n",
       "\n",
       "    .dataframe thead th {\n",
       "        text-align: right;\n",
       "    }\n",
       "</style>\n",
       "<table border=\"1\" class=\"dataframe\">\n",
       "  <thead>\n",
       "    <tr style=\"text-align: right;\">\n",
       "      <th></th>\n",
       "      <th>theta</th>\n",
       "      <th>theta1</th>\n",
       "      <th>theta2</th>\n",
       "      <th>a</th>\n",
       "      <th>b</th>\n",
       "      <th>c</th>\n",
       "      <th>d</th>\n",
       "      <th>e</th>\n",
       "      <th>f</th>\n",
       "    </tr>\n",
       "  </thead>\n",
       "  <tbody>\n",
       "    <tr>\n",
       "      <th>0</th>\n",
       "      <td>Tc</td>\n",
       "      <td>Tb</td>\n",
       "      <td>S</td>\n",
       "      <td>9.523300</td>\n",
       "      <td>-0.000931</td>\n",
       "      <td>-0.544440</td>\n",
       "      <td>0.000648</td>\n",
       "      <td>0.810670</td>\n",
       "      <td>0.53691</td>\n",
       "    </tr>\n",
       "    <tr>\n",
       "      <th>1</th>\n",
       "      <td>Tc</td>\n",
       "      <td>M</td>\n",
       "      <td>S</td>\n",
       "      <td>308.000000</td>\n",
       "      <td>-0.000135</td>\n",
       "      <td>-0.616410</td>\n",
       "      <td>0.000000</td>\n",
       "      <td>0.299800</td>\n",
       "      <td>1.05550</td>\n",
       "    </tr>\n",
       "    <tr>\n",
       "      <th>2</th>\n",
       "      <td>Pc</td>\n",
       "      <td>Tb</td>\n",
       "      <td>S</td>\n",
       "      <td>31958.000000</td>\n",
       "      <td>-0.008505</td>\n",
       "      <td>-4.801400</td>\n",
       "      <td>0.005749</td>\n",
       "      <td>-0.484400</td>\n",
       "      <td>4.08460</td>\n",
       "    </tr>\n",
       "    <tr>\n",
       "      <th>3</th>\n",
       "      <td>Pc</td>\n",
       "      <td>M</td>\n",
       "      <td>S</td>\n",
       "      <td>311.660000</td>\n",
       "      <td>-0.001808</td>\n",
       "      <td>-0.308400</td>\n",
       "      <td>0.000000</td>\n",
       "      <td>-0.806300</td>\n",
       "      <td>1.60150</td>\n",
       "    </tr>\n",
       "    <tr>\n",
       "      <th>4</th>\n",
       "      <td>(Vc/M)</td>\n",
       "      <td>Tb</td>\n",
       "      <td>S</td>\n",
       "      <td>0.000060</td>\n",
       "      <td>-0.002642</td>\n",
       "      <td>-0.264040</td>\n",
       "      <td>0.019710</td>\n",
       "      <td>0.750600</td>\n",
       "      <td>-1.20280</td>\n",
       "    </tr>\n",
       "    <tr>\n",
       "      <th>5</th>\n",
       "      <td>(Vc/M)</td>\n",
       "      <td>M</td>\n",
       "      <td>S</td>\n",
       "      <td>0.000753</td>\n",
       "      <td>-0.002657</td>\n",
       "      <td>0.528700</td>\n",
       "      <td>0.002601</td>\n",
       "      <td>0.203780</td>\n",
       "      <td>-1.30360</td>\n",
       "    </tr>\n",
       "    <tr>\n",
       "      <th>6</th>\n",
       "      <td>M</td>\n",
       "      <td>Tb</td>\n",
       "      <td>S</td>\n",
       "      <td>1032.100000</td>\n",
       "      <td>0.000978</td>\n",
       "      <td>-9.533840</td>\n",
       "      <td>0.001999</td>\n",
       "      <td>0.974760</td>\n",
       "      <td>6.51274</td>\n",
       "    </tr>\n",
       "    <tr>\n",
       "      <th>7</th>\n",
       "      <td>Tb</td>\n",
       "      <td>M</td>\n",
       "      <td>S</td>\n",
       "      <td>3.765900</td>\n",
       "      <td>0.003774</td>\n",
       "      <td>2.984036</td>\n",
       "      <td>-0.004253</td>\n",
       "      <td>0.401673</td>\n",
       "      <td>-1.58262</td>\n",
       "    </tr>\n",
       "  </tbody>\n",
       "</table>\n",
       "</div>"
      ],
      "text/plain": [
       "    theta theta1 theta2             a         b         c         d         e   \n",
       "0      Tc     Tb      S      9.523300 -0.000931 -0.544440  0.000648  0.810670  \\\n",
       "1      Tc      M      S    308.000000 -0.000135 -0.616410  0.000000  0.299800   \n",
       "2      Pc     Tb      S  31958.000000 -0.008505 -4.801400  0.005749 -0.484400   \n",
       "3      Pc      M      S    311.660000 -0.001808 -0.308400  0.000000 -0.806300   \n",
       "4  (Vc/M)     Tb      S      0.000060 -0.002642 -0.264040  0.019710  0.750600   \n",
       "5  (Vc/M)      M      S      0.000753 -0.002657  0.528700  0.002601  0.203780   \n",
       "6       M     Tb      S   1032.100000  0.000978 -9.533840  0.001999  0.974760   \n",
       "7      Tb      M      S      3.765900  0.003774  2.984036 -0.004253  0.401673   \n",
       "\n",
       "         f  \n",
       "0  0.53691  \n",
       "1  1.05550  \n",
       "2  4.08460  \n",
       "3  1.60150  \n",
       "4 -1.20280  \n",
       "5 -1.30360  \n",
       "6  6.51274  \n",
       "7 -1.58262  "
      ]
     },
     "execution_count": 6,
     "metadata": {},
     "output_type": "execute_result"
    }
   ],
   "source": [
    "table_Riazi_Daubert_SI = Tables.Table_Riazi_Daubert_SI()\n",
    "table_Riazi_Daubert_SI"
   ]
  },
  {
   "cell_type": "code",
   "execution_count": 8,
   "id": "81518c09",
   "metadata": {
    "ExecuteTime": {
     "end_time": "2023-07-12T17:28:59.631074Z",
     "start_time": "2023-07-12T17:28:59.607104Z"
    }
   },
   "outputs": [
    {
     "data": {
      "text/html": [
       "<div>\n",
       "<style scoped>\n",
       "    .dataframe tbody tr th:only-of-type {\n",
       "        vertical-align: middle;\n",
       "    }\n",
       "\n",
       "    .dataframe tbody tr th {\n",
       "        vertical-align: top;\n",
       "    }\n",
       "\n",
       "    .dataframe thead th {\n",
       "        text-align: right;\n",
       "    }\n",
       "</style>\n",
       "<table border=\"1\" class=\"dataframe\">\n",
       "  <thead>\n",
       "    <tr style=\"text-align: right;\">\n",
       "      <th></th>\n",
       "      <th>theta</th>\n",
       "      <th>theta1</th>\n",
       "      <th>theta2</th>\n",
       "      <th>a</th>\n",
       "      <th>b</th>\n",
       "      <th>c</th>\n",
       "      <th>d</th>\n",
       "      <th>e</th>\n",
       "      <th>f</th>\n",
       "    </tr>\n",
       "  </thead>\n",
       "  <tbody>\n",
       "    <tr>\n",
       "      <th>0</th>\n",
       "      <td>Tc</td>\n",
       "      <td>Tb</td>\n",
       "      <td>S</td>\n",
       "      <td>1.064430e+01</td>\n",
       "      <td>-0.000517</td>\n",
       "      <td>-0.544440</td>\n",
       "      <td>0.000360</td>\n",
       "      <td>0.810670</td>\n",
       "      <td>0.53691</td>\n",
       "    </tr>\n",
       "    <tr>\n",
       "      <th>1</th>\n",
       "      <td>Tc</td>\n",
       "      <td>M</td>\n",
       "      <td>S</td>\n",
       "      <td>5.444000e+02</td>\n",
       "      <td>-0.000135</td>\n",
       "      <td>-0.616410</td>\n",
       "      <td>0.000000</td>\n",
       "      <td>0.299800</td>\n",
       "      <td>1.05550</td>\n",
       "    </tr>\n",
       "    <tr>\n",
       "      <th>2</th>\n",
       "      <td>Pc</td>\n",
       "      <td>Tb</td>\n",
       "      <td>S</td>\n",
       "      <td>6.162000e+06</td>\n",
       "      <td>-0.004725</td>\n",
       "      <td>-4.801400</td>\n",
       "      <td>0.003194</td>\n",
       "      <td>-0.484400</td>\n",
       "      <td>4.08460</td>\n",
       "    </tr>\n",
       "    <tr>\n",
       "      <th>3</th>\n",
       "      <td>Pc</td>\n",
       "      <td>M</td>\n",
       "      <td>S</td>\n",
       "      <td>4.520300e+04</td>\n",
       "      <td>-0.001808</td>\n",
       "      <td>-0.308400</td>\n",
       "      <td>0.000000</td>\n",
       "      <td>-0.806300</td>\n",
       "      <td>1.60150</td>\n",
       "    </tr>\n",
       "    <tr>\n",
       "      <th>4</th>\n",
       "      <td>(Vc/M)</td>\n",
       "      <td>Tb</td>\n",
       "      <td>S</td>\n",
       "      <td>6.233000e-04</td>\n",
       "      <td>-0.001468</td>\n",
       "      <td>-0.264040</td>\n",
       "      <td>0.001095</td>\n",
       "      <td>0.750600</td>\n",
       "      <td>-1.20280</td>\n",
       "    </tr>\n",
       "    <tr>\n",
       "      <th>5</th>\n",
       "      <td>(Vc/M)</td>\n",
       "      <td>M</td>\n",
       "      <td>S</td>\n",
       "      <td>1.206000e-02</td>\n",
       "      <td>-0.002657</td>\n",
       "      <td>0.527800</td>\n",
       "      <td>0.002601</td>\n",
       "      <td>0.203780</td>\n",
       "      <td>-1.30360</td>\n",
       "    </tr>\n",
       "    <tr>\n",
       "      <th>6</th>\n",
       "      <td>M</td>\n",
       "      <td>Tb</td>\n",
       "      <td>S</td>\n",
       "      <td>5.819600e+02</td>\n",
       "      <td>0.000543</td>\n",
       "      <td>-9.533840</td>\n",
       "      <td>0.001111</td>\n",
       "      <td>0.974760</td>\n",
       "      <td>6.51274</td>\n",
       "    </tr>\n",
       "    <tr>\n",
       "      <th>7</th>\n",
       "      <td>Tb</td>\n",
       "      <td>M</td>\n",
       "      <td>S</td>\n",
       "      <td>6.778570e+00</td>\n",
       "      <td>0.003774</td>\n",
       "      <td>2.984036</td>\n",
       "      <td>-0.004253</td>\n",
       "      <td>0.401673</td>\n",
       "      <td>-1.58262</td>\n",
       "    </tr>\n",
       "  </tbody>\n",
       "</table>\n",
       "</div>"
      ],
      "text/plain": [
       "    theta theta1 theta2             a         b         c         d         e   \n",
       "0      Tc     Tb      S  1.064430e+01 -0.000517 -0.544440  0.000360  0.810670  \\\n",
       "1      Tc      M      S  5.444000e+02 -0.000135 -0.616410  0.000000  0.299800   \n",
       "2      Pc     Tb      S  6.162000e+06 -0.004725 -4.801400  0.003194 -0.484400   \n",
       "3      Pc      M      S  4.520300e+04 -0.001808 -0.308400  0.000000 -0.806300   \n",
       "4  (Vc/M)     Tb      S  6.233000e-04 -0.001468 -0.264040  0.001095  0.750600   \n",
       "5  (Vc/M)      M      S  1.206000e-02 -0.002657  0.527800  0.002601  0.203780   \n",
       "6       M     Tb      S  5.819600e+02  0.000543 -9.533840  0.001111  0.974760   \n",
       "7      Tb      M      S  6.778570e+00  0.003774  2.984036 -0.004253  0.401673   \n",
       "\n",
       "         f  \n",
       "0  0.53691  \n",
       "1  1.05550  \n",
       "2  4.08460  \n",
       "3  1.60150  \n",
       "4 -1.20280  \n",
       "5 -1.30360  \n",
       "6  6.51274  \n",
       "7 -1.58262  "
      ]
     },
     "execution_count": 8,
     "metadata": {},
     "output_type": "execute_result"
    }
   ],
   "source": [
    "table_Riazi_Daubert_Field = Tables.Table_Riazi_Daubert_Field()\n",
    "table_Riazi_Daubert_Field"
   ]
  },
  {
   "cell_type": "code",
   "execution_count": 14,
   "id": "a6982fd5",
   "metadata": {
    "ExecuteTime": {
     "end_time": "2023-07-12T17:29:43.151448Z",
     "start_time": "2023-07-12T17:29:43.142470Z"
    }
   },
   "outputs": [
    {
     "name": "stdout",
     "output_type": "stream",
     "text": [
      "Tc(Tb,S) = 709.9195872920866\n"
     ]
    }
   ],
   "source": [
    "criticalproperties = CriticalProperties(Unit='SI')\n",
    "rd = criticalproperties.Riazi_Daubert(theta1=520, theta2=0.826, Tabel_index_selection=0)"
   ]
  },
  {
   "cell_type": "markdown",
   "id": "ab04861c",
   "metadata": {},
   "source": [
    "## Example 6.1\n",
    "Calculate the critical temperature, pressure, volume and the acentric factor for C14 with properties as reported in the generalised property table, Table 6.1, using the methods of Twu (Lee-Kesler for the acentric factor) and Riazi-Daubert (Edmister for the acentric factor). "
   ]
  },
  {
   "cell_type": "code",
   "execution_count": 15,
   "id": "5492912e",
   "metadata": {
    "ExecuteTime": {
     "end_time": "2023-07-12T17:29:46.630258Z",
     "start_time": "2023-07-12T17:29:46.616326Z"
    }
   },
   "outputs": [
    {
     "name": "stdout",
     "output_type": "stream",
     "text": [
      "Tc(Tb,S) = 709.9195872920866\n"
     ]
    }
   ],
   "source": [
    "criticalproperties = CriticalProperties(Unit='SI')\n",
    "rd = criticalproperties.Riazi_Daubert(theta1=520, theta2=0.826, Tabel_index_selection=0)"
   ]
  },
  {
   "cell_type": "code",
   "execution_count": 16,
   "id": "270e5c87",
   "metadata": {
    "ExecuteTime": {
     "end_time": "2023-07-12T17:29:48.521557Z",
     "start_time": "2023-07-12T17:29:48.508591Z"
    }
   },
   "outputs": [
    {
     "name": "stdout",
     "output_type": "stream",
     "text": [
      "Tc(M,S) = 710.9661547098273\n"
     ]
    }
   ],
   "source": [
    "criticalproperties = CriticalProperties(Unit='SI')\n",
    "rd = criticalproperties.Riazi_Daubert(theta1=190, theta2=0.826, Tabel_index_selection=1)"
   ]
  },
  {
   "cell_type": "code",
   "execution_count": 17,
   "id": "b1dc1fd0",
   "metadata": {
    "ExecuteTime": {
     "end_time": "2023-07-12T17:29:50.804060Z",
     "start_time": "2023-07-12T17:29:50.782500Z"
    }
   },
   "outputs": [
    {
     "name": "stdout",
     "output_type": "stream",
     "text": [
      "Pc(Tb,S) = 1.9017281449678287\n"
     ]
    }
   ],
   "source": [
    "criticalproperties = CriticalProperties(Unit='SI')\n",
    "rd = criticalproperties.Riazi_Daubert(theta1=520, theta2=0.826, Tabel_index_selection=2)"
   ]
  },
  {
   "cell_type": "code",
   "execution_count": 18,
   "id": "e242c1b5",
   "metadata": {
    "ExecuteTime": {
     "end_time": "2023-07-12T17:29:54.075190Z",
     "start_time": "2023-07-12T17:29:54.061019Z"
    }
   },
   "outputs": [
    {
     "name": "stdout",
     "output_type": "stream",
     "text": [
      "Pc(M,S) = 1.8346860760299653\n"
     ]
    }
   ],
   "source": [
    "criticalproperties = CriticalProperties(Unit='SI')\n",
    "rd = criticalproperties.Riazi_Daubert(theta1=190, theta2=0.826, Tabel_index_selection=3)"
   ]
  }
 ],
 "metadata": {
  "kernelspec": {
   "display_name": "Python 3 (ipykernel)",
   "language": "python",
   "name": "python3"
  },
  "language_info": {
   "codemirror_mode": {
    "name": "ipython",
    "version": 3
   },
   "file_extension": ".py",
   "mimetype": "text/x-python",
   "name": "python",
   "nbconvert_exporter": "python",
   "pygments_lexer": "ipython3",
   "version": "3.9.12"
  },
  "toc": {
   "base_numbering": 1,
   "nav_menu": {},
   "number_sections": true,
   "sideBar": true,
   "skip_h1_title": false,
   "title_cell": "Table of Contents",
   "title_sidebar": "Contents",
   "toc_cell": false,
   "toc_position": {},
   "toc_section_display": true,
   "toc_window_display": false
  },
  "varInspector": {
   "cols": {
    "lenName": 16,
    "lenType": 16,
    "lenVar": 40
   },
   "kernels_config": {
    "python": {
     "delete_cmd_postfix": "",
     "delete_cmd_prefix": "del ",
     "library": "var_list.py",
     "varRefreshCmd": "print(var_dic_list())"
    },
    "r": {
     "delete_cmd_postfix": ") ",
     "delete_cmd_prefix": "rm(",
     "library": "var_list.r",
     "varRefreshCmd": "cat(var_dic_list()) "
    }
   },
   "types_to_exclude": [
    "module",
    "function",
    "builtin_function_or_method",
    "instance",
    "_Feature"
   ],
   "window_display": false
  }
 },
 "nbformat": 4,
 "nbformat_minor": 5
}
