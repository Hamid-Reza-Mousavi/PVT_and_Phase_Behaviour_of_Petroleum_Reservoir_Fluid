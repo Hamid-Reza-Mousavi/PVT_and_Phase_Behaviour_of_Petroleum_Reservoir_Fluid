{
 "cells": [
  {
   "cell_type": "code",
   "execution_count": 7,
   "id": "ebaf9e82",
   "metadata": {
    "ExecuteTime": {
     "end_time": "2023-07-12T04:40:15.129686Z",
     "start_time": "2023-07-12T04:40:14.507490Z"
    }
   },
   "outputs": [],
   "source": [
    "import pandas as pd\n",
    "import numpy as np\n",
    "from matplotlib import pyplot as plt\n",
    "import Tables"
   ]
  },
  {
   "cell_type": "markdown",
   "id": "ed6d05a4",
   "metadata": {},
   "source": [
    "The continuous description of a fluid mixture has two major applications: \n",
    "\n",
    "a) It can be used to improve and extend fluid characterisation through describing the plus\n",
    "fraction by a number of single and multiple carbon number groups, particularly in the absence\n",
    "of experimental data. \n",
    "\n",
    "b) The continuous distribution function may be used directly in phase behaviour models,\n",
    "instead of discrete component data."
   ]
  },
  {
   "cell_type": "markdown",
   "id": "03995f9c",
   "metadata": {
    "heading_collapsed": true
   },
   "source": [
    "# Example 6-2\n",
    "The total concentration of C7+ fraction of a gas condensate is 3.92 mole% with the analysis as follows. Extend the analysis to C30+ by SCN groups. "
   ]
  },
  {
   "cell_type": "code",
   "execution_count": 26,
   "id": "25e4758e",
   "metadata": {
    "ExecuteTime": {
     "end_time": "2023-07-12T03:01:47.937401Z",
     "start_time": "2023-07-12T03:01:47.907449Z"
    },
    "hidden": true
   },
   "outputs": [
    {
     "data": {
      "text/html": [
       "<div>\n",
       "<style scoped>\n",
       "    .dataframe tbody tr th:only-of-type {\n",
       "        vertical-align: middle;\n",
       "    }\n",
       "\n",
       "    .dataframe tbody tr th {\n",
       "        vertical-align: top;\n",
       "    }\n",
       "\n",
       "    .dataframe thead th {\n",
       "        text-align: right;\n",
       "    }\n",
       "</style>\n",
       "<table border=\"1\" class=\"dataframe\">\n",
       "  <thead>\n",
       "    <tr style=\"text-align: right;\">\n",
       "      <th></th>\n",
       "      <th>Component</th>\n",
       "      <th>Mole%</th>\n",
       "      <th>M</th>\n",
       "      <th>S</th>\n",
       "    </tr>\n",
       "  </thead>\n",
       "  <tbody>\n",
       "    <tr>\n",
       "      <th>0</th>\n",
       "      <td>C7</td>\n",
       "      <td>0.2020</td>\n",
       "      <td>96</td>\n",
       "      <td>0.730</td>\n",
       "    </tr>\n",
       "    <tr>\n",
       "      <th>1</th>\n",
       "      <td>C8</td>\n",
       "      <td>0.2141</td>\n",
       "      <td>107</td>\n",
       "      <td>0.754</td>\n",
       "    </tr>\n",
       "    <tr>\n",
       "      <th>2</th>\n",
       "      <td>C9</td>\n",
       "      <td>0.1211</td>\n",
       "      <td>121</td>\n",
       "      <td>0.769</td>\n",
       "    </tr>\n",
       "    <tr>\n",
       "      <th>3</th>\n",
       "      <td>C10</td>\n",
       "      <td>0.0923</td>\n",
       "      <td>134</td>\n",
       "      <td>0.785</td>\n",
       "    </tr>\n",
       "    <tr>\n",
       "      <th>4</th>\n",
       "      <td>C11</td>\n",
       "      <td>0.0717</td>\n",
       "      <td>147</td>\n",
       "      <td>0.799</td>\n",
       "    </tr>\n",
       "    <tr>\n",
       "      <th>5</th>\n",
       "      <td>C12</td>\n",
       "      <td>0.0568</td>\n",
       "      <td>161</td>\n",
       "      <td>0.806</td>\n",
       "    </tr>\n",
       "    <tr>\n",
       "      <th>6</th>\n",
       "      <td>C13</td>\n",
       "      <td>0.0427</td>\n",
       "      <td>175</td>\n",
       "      <td>0.820</td>\n",
       "    </tr>\n",
       "    <tr>\n",
       "      <th>7</th>\n",
       "      <td>C14</td>\n",
       "      <td>0.0305</td>\n",
       "      <td>190</td>\n",
       "      <td>0.843</td>\n",
       "    </tr>\n",
       "    <tr>\n",
       "      <th>8</th>\n",
       "      <td>C15</td>\n",
       "      <td>0.0243</td>\n",
       "      <td>206</td>\n",
       "      <td>0.844</td>\n",
       "    </tr>\n",
       "    <tr>\n",
       "      <th>9</th>\n",
       "      <td>C16+</td>\n",
       "      <td>0.1445</td>\n",
       "      <td>374</td>\n",
       "      <td>0.909</td>\n",
       "    </tr>\n",
       "  </tbody>\n",
       "</table>\n",
       "</div>"
      ],
      "text/plain": [
       "  Component   Mole%    M      S\n",
       "0        C7  0.2020   96  0.730\n",
       "1        C8  0.2141  107  0.754\n",
       "2        C9  0.1211  121  0.769\n",
       "3       C10  0.0923  134  0.785\n",
       "4       C11  0.0717  147  0.799\n",
       "5       C12  0.0568  161  0.806\n",
       "6       C13  0.0427  175  0.820\n",
       "7       C14  0.0305  190  0.843\n",
       "8       C15  0.0243  206  0.844\n",
       "9      C16+  0.1445  374  0.909"
      ]
     },
     "execution_count": 26,
     "metadata": {},
     "output_type": "execute_result"
    }
   ],
   "source": [
    "Component = np.array(['C7', 'C8', 'C9', 'C10', 'C11', 'C12', 'C13', 'C14',\n",
    "                     'C15', 'C16+'])\n",
    "Mole = np.array([20.20, 21.41, 12.11, 9.23, 7.17, 5.68, 4.27, 3.05,\n",
    "                2.43, 14.45]) / 100\n",
    "M = np.array([96, 107, 121, 134, 147, 161, 175, 190, 206, 374])\n",
    "S = np.array([0.730, 0.754, 0.769, 0.785, 0.799, 0.806, 0.820, 0.843,\n",
    "             0.844, 0.909])\n",
    "data = pd.DataFrame({'Component':Component, 'Mole%':Mole,\n",
    "                    'M':M, 'S':S})\n",
    "data"
   ]
  },
  {
   "cell_type": "code",
   "execution_count": 27,
   "id": "9f941109",
   "metadata": {
    "ExecuteTime": {
     "end_time": "2023-07-12T03:01:54.476835Z",
     "start_time": "2023-07-12T03:01:54.437345Z"
    },
    "hidden": true
   },
   "outputs": [
    {
     "name": "stdout",
     "output_type": "stream",
     "text": [
      "Fitted parameters M:\n",
      "A = 0.5044653759077513\n",
      "B = -0.020952813545975106\n",
      "Fitted parameters S:\n",
      "A = -0.4207252523082175\n",
      "B = 0.001276235429524667\n"
     ]
    }
   ],
   "source": [
    "from scipy.optimize import curve_fit\n",
    "\n",
    "# Define the exponential function\n",
    "def exponential_func(M, A, B):\n",
    "    return np.exp(A + B * M)\n",
    "\n",
    "M = data['M'][:-1]\n",
    "Mole_percent = data['Mole%'][:-1]\n",
    "S = data['S'][:-1]\n",
    "\n",
    "\n",
    "initial_guess = [0.0, 0.0]  # Initial guess for the parameters A and B\n",
    "params_M, params_covariance_M = curve_fit(exponential_func, M, Mole_percent, p0=initial_guess)\n",
    "params_S, params_covariance_S = curve_fit(exponential_func, M, S, p0=initial_guess)\n",
    "\n",
    "\n",
    "# Extract the fitted parameters\n",
    "fit_A, fit_B = params_M\n",
    "fit_S_A, fit_S_B = params_S\n",
    "# Print the fitted parameters\n",
    "print(\"Fitted parameters M:\")\n",
    "print(\"A =\", fit_A)\n",
    "print(\"B =\", fit_B)\n",
    "\n",
    "print(\"Fitted parameters S:\")\n",
    "print(\"A =\", fit_S_A)\n",
    "print(\"B =\", fit_S_B)\n"
   ]
  },
  {
   "cell_type": "code",
   "execution_count": 56,
   "id": "bd440f87",
   "metadata": {
    "ExecuteTime": {
     "end_time": "2023-07-12T03:09:21.696990Z",
     "start_time": "2023-07-12T03:09:21.376802Z"
    },
    "hidden": true
   },
   "outputs": [
    {
     "data": {
      "image/png": "[encoded data removed]",
      "text/plain": [
       "<Figure size 1080x360 with 2 Axes>"
      ]
     },
     "metadata": {
      "needs_background": "light"
     },
     "output_type": "display_data"
    }
   ],
   "source": [
    "fig, (ax1, ax2) = plt.subplots(nrows=1, ncols=2, figsize=(15, 5))\n",
    "\n",
    "# Generate points for the fitted curve\n",
    "M_fit = np.linspace(min(M), max(M), 100)\n",
    "Mole_percent_fit = exponential_func(M_fit, fit_A, fit_B)\n",
    "S_fit = exponential_func(M_fit, fit_S_A, fit_S_B)\n",
    "\n",
    "# Plot the real data and the fitted curve\n",
    "ax1.scatter(M, Mole_percent, label='Real Data')\n",
    "ax1.plot(M_fit, Mole_percent_fit, 'r-', label='Fitted Curve')\n",
    "ax2.scatter(M, S, label='Real Data')\n",
    "ax2.plot(M_fit, S_fit, 'r-', label='Fitted Curve')\n",
    "ax1.legend()\n",
    "ax2.legend()\n",
    "plt.show()"
   ]
  },
  {
   "cell_type": "code",
   "execution_count": 57,
   "id": "c77d3f60",
   "metadata": {
    "ExecuteTime": {
     "end_time": "2023-07-12T03:09:28.096573Z",
     "start_time": "2023-07-12T03:09:28.087613Z"
    },
    "hidden": true
   },
   "outputs": [],
   "source": [
    "Property = Tables.Tabel_Property().loc['C7':'C29']\n",
    "Property['Xi'] = exponential_func(Property['MW'], fit_A, fit_B)\n",
    "Property['S'] = exponential_func(Property['MW'], fit_S_A, fit_S_B)"
   ]
  },
  {
   "cell_type": "code",
   "execution_count": 58,
   "id": "a595844c",
   "metadata": {
    "ExecuteTime": {
     "end_time": "2023-07-12T03:09:28.940875Z",
     "start_time": "2023-07-12T03:09:28.923943Z"
    },
    "hidden": true,
    "scrolled": false
   },
   "outputs": [
    {
     "name": "stdout",
     "output_type": "stream",
     "text": [
      "0.9205029697933844\n"
     ]
    },
    {
     "data": {
      "text/html": [
       "<div>\n",
       "<style scoped>\n",
       "    .dataframe tbody tr th:only-of-type {\n",
       "        vertical-align: middle;\n",
       "    }\n",
       "\n",
       "    .dataframe tbody tr th {\n",
       "        vertical-align: top;\n",
       "    }\n",
       "\n",
       "    .dataframe thead th {\n",
       "        text-align: right;\n",
       "    }\n",
       "</style>\n",
       "<table border=\"1\" class=\"dataframe\">\n",
       "  <thead>\n",
       "    <tr style=\"text-align: right;\">\n",
       "      <th></th>\n",
       "      <th>MW</th>\n",
       "      <th>Xi</th>\n",
       "      <th>S</th>\n",
       "    </tr>\n",
       "  </thead>\n",
       "  <tbody>\n",
       "    <tr>\n",
       "      <th>C7</th>\n",
       "      <td>96</td>\n",
       "      <td>0.221573</td>\n",
       "      <td>0.742148</td>\n",
       "    </tr>\n",
       "    <tr>\n",
       "      <th>C8</th>\n",
       "      <td>107</td>\n",
       "      <td>0.175962</td>\n",
       "      <td>0.752640</td>\n",
       "    </tr>\n",
       "    <tr>\n",
       "      <th>C9</th>\n",
       "      <td>121</td>\n",
       "      <td>0.131227</td>\n",
       "      <td>0.766209</td>\n",
       "    </tr>\n",
       "    <tr>\n",
       "      <th>C10</th>\n",
       "      <td>134</td>\n",
       "      <td>0.099937</td>\n",
       "      <td>0.779027</td>\n",
       "    </tr>\n",
       "    <tr>\n",
       "      <th>C11</th>\n",
       "      <td>147</td>\n",
       "      <td>0.076108</td>\n",
       "      <td>0.792060</td>\n",
       "    </tr>\n",
       "    <tr>\n",
       "      <th>C12</th>\n",
       "      <td>161</td>\n",
       "      <td>0.056759</td>\n",
       "      <td>0.806339</td>\n",
       "    </tr>\n",
       "    <tr>\n",
       "      <th>C13</th>\n",
       "      <td>175</td>\n",
       "      <td>0.042329</td>\n",
       "      <td>0.820875</td>\n",
       "    </tr>\n",
       "    <tr>\n",
       "      <th>C14</th>\n",
       "      <td>190</td>\n",
       "      <td>0.030913</td>\n",
       "      <td>0.836741</td>\n",
       "    </tr>\n",
       "    <tr>\n",
       "      <th>C15</th>\n",
       "      <td>206</td>\n",
       "      <td>0.022108</td>\n",
       "      <td>0.854003</td>\n",
       "    </tr>\n",
       "    <tr>\n",
       "      <th>C16</th>\n",
       "      <td>222</td>\n",
       "      <td>0.015811</td>\n",
       "      <td>0.871621</td>\n",
       "    </tr>\n",
       "    <tr>\n",
       "      <th>C17</th>\n",
       "      <td>237</td>\n",
       "      <td>0.011547</td>\n",
       "      <td>0.888467</td>\n",
       "    </tr>\n",
       "    <tr>\n",
       "      <th>C18</th>\n",
       "      <td>251</td>\n",
       "      <td>0.008611</td>\n",
       "      <td>0.904484</td>\n",
       "    </tr>\n",
       "    <tr>\n",
       "      <th>C19</th>\n",
       "      <td>263</td>\n",
       "      <td>0.006697</td>\n",
       "      <td>0.918443</td>\n",
       "    </tr>\n",
       "    <tr>\n",
       "      <th>C20</th>\n",
       "      <td>275</td>\n",
       "      <td>0.005208</td>\n",
       "      <td>0.932617</td>\n",
       "    </tr>\n",
       "    <tr>\n",
       "      <th>C21</th>\n",
       "      <td>291</td>\n",
       "      <td>0.003725</td>\n",
       "      <td>0.951857</td>\n",
       "    </tr>\n",
       "    <tr>\n",
       "      <th>C22</th>\n",
       "      <td>300</td>\n",
       "      <td>0.003084</td>\n",
       "      <td>0.962853</td>\n",
       "    </tr>\n",
       "    <tr>\n",
       "      <th>C23</th>\n",
       "      <td>312</td>\n",
       "      <td>0.002399</td>\n",
       "      <td>0.977712</td>\n",
       "    </tr>\n",
       "    <tr>\n",
       "      <th>C24</th>\n",
       "      <td>324</td>\n",
       "      <td>0.001865</td>\n",
       "      <td>0.992801</td>\n",
       "    </tr>\n",
       "    <tr>\n",
       "      <th>C25</th>\n",
       "      <td>337</td>\n",
       "      <td>0.001421</td>\n",
       "      <td>1.009410</td>\n",
       "    </tr>\n",
       "    <tr>\n",
       "      <th>C26</th>\n",
       "      <td>349</td>\n",
       "      <td>0.001105</td>\n",
       "      <td>1.024988</td>\n",
       "    </tr>\n",
       "    <tr>\n",
       "      <th>C27</th>\n",
       "      <td>360</td>\n",
       "      <td>0.000877</td>\n",
       "      <td>1.039479</td>\n",
       "    </tr>\n",
       "    <tr>\n",
       "      <th>C28</th>\n",
       "      <td>372</td>\n",
       "      <td>0.000682</td>\n",
       "      <td>1.055521</td>\n",
       "    </tr>\n",
       "    <tr>\n",
       "      <th>C29</th>\n",
       "      <td>382</td>\n",
       "      <td>0.000553</td>\n",
       "      <td>1.069078</td>\n",
       "    </tr>\n",
       "  </tbody>\n",
       "</table>\n",
       "</div>"
      ],
      "text/plain": [
       "      MW        Xi         S\n",
       "C7    96  0.221573  0.742148\n",
       "C8   107  0.175962  0.752640\n",
       "C9   121  0.131227  0.766209\n",
       "C10  134  0.099937  0.779027\n",
       "C11  147  0.076108  0.792060\n",
       "C12  161  0.056759  0.806339\n",
       "C13  175  0.042329  0.820875\n",
       "C14  190  0.030913  0.836741\n",
       "C15  206  0.022108  0.854003\n",
       "C16  222  0.015811  0.871621\n",
       "C17  237  0.011547  0.888467\n",
       "C18  251  0.008611  0.904484\n",
       "C19  263  0.006697  0.918443\n",
       "C20  275  0.005208  0.932617\n",
       "C21  291  0.003725  0.951857\n",
       "C22  300  0.003084  0.962853\n",
       "C23  312  0.002399  0.977712\n",
       "C24  324  0.001865  0.992801\n",
       "C25  337  0.001421  1.009410\n",
       "C26  349  0.001105  1.024988\n",
       "C27  360  0.000877  1.039479\n",
       "C28  372  0.000682  1.055521\n",
       "C29  382  0.000553  1.069078"
      ]
     },
     "execution_count": 58,
     "metadata": {},
     "output_type": "execute_result"
    }
   ],
   "source": [
    "print(Property['Xi'].sum())\n",
    "Property"
   ]
  },
  {
   "cell_type": "code",
   "execution_count": 59,
   "id": "94efb2bc",
   "metadata": {
    "ExecuteTime": {
     "end_time": "2023-07-12T03:09:30.196588Z",
     "start_time": "2023-07-12T03:09:30.187611Z"
    },
    "hidden": true
   },
   "outputs": [
    {
     "name": "stdout",
     "output_type": "stream",
     "text": [
      "Xc30+ =  0.07949703020661558\n"
     ]
    }
   ],
   "source": [
    "x_30 = 1 - Property['Xi'].sum()\n",
    "print('Xc30+ = ', x_30)"
   ]
  },
  {
   "cell_type": "code",
   "execution_count": 60,
   "id": "a0031a69",
   "metadata": {
    "ExecuteTime": {
     "end_time": "2023-07-12T03:09:31.081269Z",
     "start_time": "2023-07-12T03:09:31.064322Z"
    },
    "hidden": true
   },
   "outputs": [
    {
     "name": "stdout",
     "output_type": "stream",
     "text": [
      "Mc30+ =  467.7348052518849\n"
     ]
    }
   ],
   "source": [
    "Mc_30 = (np.sum(data['M']*data['Mole%']) - np.sum(Property['MW']*Property['Xi']))/x_30\n",
    "print('Mc30+ = ', Mc_30)"
   ]
  },
  {
   "cell_type": "markdown",
   "id": "714808ab",
   "metadata": {
    "heading_collapsed": true
   },
   "source": [
    "# Example 6-3\n",
    "The mole fraction, molecular weight and specific gravity of the C7+ fraction of a gas condensate sample are 0.0392, 165 and 0.815, respectively. Describe the C7+ fraction by SCN groups extended to C20+. "
   ]
  },
  {
   "cell_type": "code",
   "execution_count": 47,
   "id": "7af7da4c",
   "metadata": {
    "ExecuteTime": {
     "end_time": "2023-07-12T04:26:36.821648Z",
     "start_time": "2023-07-12T04:26:36.808679Z"
    },
    "hidden": true
   },
   "outputs": [],
   "source": [
    "P_1 = Tables.Tabel_Property().loc['C7':'C45']\n",
    "Zd = 3.92\n",
    "Md = 165"
   ]
  },
  {
   "cell_type": "code",
   "execution_count": 48,
   "id": "7f114df7",
   "metadata": {
    "ExecuteTime": {
     "end_time": "2023-07-12T04:26:38.271521Z",
     "start_time": "2023-07-12T04:26:38.244017Z"
    },
    "hidden": true
   },
   "outputs": [
    {
     "name": "stdout",
     "output_type": "stream",
     "text": [
      "The value of B is: -0.013141838893065274\n"
     ]
    }
   ],
   "source": [
    "import numpy as np\n",
    "from scipy.optimize import fsolve\n",
    "\n",
    "def equation(B):\n",
    "    return np.sum((P_1['MW']-Md) * np.exp(B * P_1['MW']))\n",
    "\n",
    "# Solve the equation using fsolve\n",
    "B_solution = fsolve(equation, 0)  # Provide an initial guess for B, such as 1.0\n",
    "\n",
    "print(\"The value of B is:\", B_solution[0])"
   ]
  },
  {
   "cell_type": "code",
   "execution_count": 49,
   "id": "ea61fe7f",
   "metadata": {
    "ExecuteTime": {
     "end_time": "2023-07-12T04:26:39.380278Z",
     "start_time": "2023-07-12T04:26:39.363321Z"
    },
    "hidden": true
   },
   "outputs": [
    {
     "name": "stdout",
     "output_type": "stream",
     "text": [
      "The value of A is: 0.7953025029955739\n"
     ]
    }
   ],
   "source": [
    "A = np.log(Zd) - np.log(np.sum(np.exp(B_solution[0] * P_1['MW'])))\n",
    "print(\"The value of A is:\", A)"
   ]
  },
  {
   "cell_type": "code",
   "execution_count": 50,
   "id": "da5dde74",
   "metadata": {
    "ExecuteTime": {
     "end_time": "2023-07-12T04:26:43.737043Z",
     "start_time": "2023-07-12T04:26:43.724077Z"
    },
    "hidden": true
   },
   "outputs": [
    {
     "data": {
      "text/html": [
       "<div>\n",
       "<style scoped>\n",
       "    .dataframe tbody tr th:only-of-type {\n",
       "        vertical-align: middle;\n",
       "    }\n",
       "\n",
       "    .dataframe tbody tr th {\n",
       "        vertical-align: top;\n",
       "    }\n",
       "\n",
       "    .dataframe thead th {\n",
       "        text-align: right;\n",
       "    }\n",
       "</style>\n",
       "<table border=\"1\" class=\"dataframe\">\n",
       "  <thead>\n",
       "    <tr style=\"text-align: right;\">\n",
       "      <th></th>\n",
       "      <th>MW</th>\n",
       "      <th>Zcn</th>\n",
       "    </tr>\n",
       "  </thead>\n",
       "  <tbody>\n",
       "    <tr>\n",
       "      <th>C7</th>\n",
       "      <td>96</td>\n",
       "      <td>0.627310</td>\n",
       "    </tr>\n",
       "    <tr>\n",
       "      <th>C8</th>\n",
       "      <td>107</td>\n",
       "      <td>0.542876</td>\n",
       "    </tr>\n",
       "    <tr>\n",
       "      <th>C9</th>\n",
       "      <td>121</td>\n",
       "      <td>0.451644</td>\n",
       "    </tr>\n",
       "    <tr>\n",
       "      <th>C10</th>\n",
       "      <td>134</td>\n",
       "      <td>0.380715</td>\n",
       "    </tr>\n",
       "    <tr>\n",
       "      <th>C11</th>\n",
       "      <td>147</td>\n",
       "      <td>0.320925</td>\n",
       "    </tr>\n",
       "    <tr>\n",
       "      <th>C12</th>\n",
       "      <td>161</td>\n",
       "      <td>0.266993</td>\n",
       "    </tr>\n",
       "    <tr>\n",
       "      <th>C13</th>\n",
       "      <td>175</td>\n",
       "      <td>0.222124</td>\n",
       "    </tr>\n",
       "    <tr>\n",
       "      <th>C14</th>\n",
       "      <td>190</td>\n",
       "      <td>0.182383</td>\n",
       "    </tr>\n",
       "    <tr>\n",
       "      <th>C15</th>\n",
       "      <td>206</td>\n",
       "      <td>0.147797</td>\n",
       "    </tr>\n",
       "    <tr>\n",
       "      <th>C16</th>\n",
       "      <td>222</td>\n",
       "      <td>0.119770</td>\n",
       "    </tr>\n",
       "    <tr>\n",
       "      <th>C17</th>\n",
       "      <td>237</td>\n",
       "      <td>0.098341</td>\n",
       "    </tr>\n",
       "    <tr>\n",
       "      <th>C18</th>\n",
       "      <td>251</td>\n",
       "      <td>0.081815</td>\n",
       "    </tr>\n",
       "    <tr>\n",
       "      <th>C19</th>\n",
       "      <td>263</td>\n",
       "      <td>0.069878</td>\n",
       "    </tr>\n",
       "    <tr>\n",
       "      <th>C20</th>\n",
       "      <td>275</td>\n",
       "      <td>0.059683</td>\n",
       "    </tr>\n",
       "    <tr>\n",
       "      <th>C21</th>\n",
       "      <td>291</td>\n",
       "      <td>0.048365</td>\n",
       "    </tr>\n",
       "    <tr>\n",
       "      <th>C22</th>\n",
       "      <td>300</td>\n",
       "      <td>0.042970</td>\n",
       "    </tr>\n",
       "    <tr>\n",
       "      <th>C23</th>\n",
       "      <td>312</td>\n",
       "      <td>0.036701</td>\n",
       "    </tr>\n",
       "    <tr>\n",
       "      <th>C24</th>\n",
       "      <td>324</td>\n",
       "      <td>0.031346</td>\n",
       "    </tr>\n",
       "    <tr>\n",
       "      <th>C25</th>\n",
       "      <td>337</td>\n",
       "      <td>0.026424</td>\n",
       "    </tr>\n",
       "    <tr>\n",
       "      <th>C26</th>\n",
       "      <td>349</td>\n",
       "      <td>0.022569</td>\n",
       "    </tr>\n",
       "    <tr>\n",
       "      <th>C27</th>\n",
       "      <td>360</td>\n",
       "      <td>0.019531</td>\n",
       "    </tr>\n",
       "    <tr>\n",
       "      <th>C28</th>\n",
       "      <td>372</td>\n",
       "      <td>0.016681</td>\n",
       "    </tr>\n",
       "    <tr>\n",
       "      <th>C29</th>\n",
       "      <td>382</td>\n",
       "      <td>0.014627</td>\n",
       "    </tr>\n",
       "    <tr>\n",
       "      <th>C30</th>\n",
       "      <td>394</td>\n",
       "      <td>0.012493</td>\n",
       "    </tr>\n",
       "    <tr>\n",
       "      <th>C31</th>\n",
       "      <td>404</td>\n",
       "      <td>0.010955</td>\n",
       "    </tr>\n",
       "    <tr>\n",
       "      <th>C32</th>\n",
       "      <td>415</td>\n",
       "      <td>0.009480</td>\n",
       "    </tr>\n",
       "    <tr>\n",
       "      <th>C33</th>\n",
       "      <td>426</td>\n",
       "      <td>0.008204</td>\n",
       "    </tr>\n",
       "    <tr>\n",
       "      <th>C34</th>\n",
       "      <td>437</td>\n",
       "      <td>0.007100</td>\n",
       "    </tr>\n",
       "    <tr>\n",
       "      <th>C35</th>\n",
       "      <td>445</td>\n",
       "      <td>0.006391</td>\n",
       "    </tr>\n",
       "    <tr>\n",
       "      <th>C36</th>\n",
       "      <td>456</td>\n",
       "      <td>0.005531</td>\n",
       "    </tr>\n",
       "    <tr>\n",
       "      <th>C37</th>\n",
       "      <td>464</td>\n",
       "      <td>0.004979</td>\n",
       "    </tr>\n",
       "    <tr>\n",
       "      <th>C38</th>\n",
       "      <td>475</td>\n",
       "      <td>0.004309</td>\n",
       "    </tr>\n",
       "    <tr>\n",
       "      <th>C39</th>\n",
       "      <td>484</td>\n",
       "      <td>0.003828</td>\n",
       "    </tr>\n",
       "    <tr>\n",
       "      <th>C40</th>\n",
       "      <td>495</td>\n",
       "      <td>0.003313</td>\n",
       "    </tr>\n",
       "    <tr>\n",
       "      <th>C41</th>\n",
       "      <td>502</td>\n",
       "      <td>0.003022</td>\n",
       "    </tr>\n",
       "    <tr>\n",
       "      <th>C42</th>\n",
       "      <td>512</td>\n",
       "      <td>0.002650</td>\n",
       "    </tr>\n",
       "    <tr>\n",
       "      <th>C43</th>\n",
       "      <td>521</td>\n",
       "      <td>0.002354</td>\n",
       "    </tr>\n",
       "    <tr>\n",
       "      <th>C44</th>\n",
       "      <td>531</td>\n",
       "      <td>0.002064</td>\n",
       "    </tr>\n",
       "    <tr>\n",
       "      <th>C45</th>\n",
       "      <td>539</td>\n",
       "      <td>0.001858</td>\n",
       "    </tr>\n",
       "  </tbody>\n",
       "</table>\n",
       "</div>"
      ],
      "text/plain": [
       "      MW       Zcn\n",
       "C7    96  0.627310\n",
       "C8   107  0.542876\n",
       "C9   121  0.451644\n",
       "C10  134  0.380715\n",
       "C11  147  0.320925\n",
       "C12  161  0.266993\n",
       "C13  175  0.222124\n",
       "C14  190  0.182383\n",
       "C15  206  0.147797\n",
       "C16  222  0.119770\n",
       "C17  237  0.098341\n",
       "C18  251  0.081815\n",
       "C19  263  0.069878\n",
       "C20  275  0.059683\n",
       "C21  291  0.048365\n",
       "C22  300  0.042970\n",
       "C23  312  0.036701\n",
       "C24  324  0.031346\n",
       "C25  337  0.026424\n",
       "C26  349  0.022569\n",
       "C27  360  0.019531\n",
       "C28  372  0.016681\n",
       "C29  382  0.014627\n",
       "C30  394  0.012493\n",
       "C31  404  0.010955\n",
       "C32  415  0.009480\n",
       "C33  426  0.008204\n",
       "C34  437  0.007100\n",
       "C35  445  0.006391\n",
       "C36  456  0.005531\n",
       "C37  464  0.004979\n",
       "C38  475  0.004309\n",
       "C39  484  0.003828\n",
       "C40  495  0.003313\n",
       "C41  502  0.003022\n",
       "C42  512  0.002650\n",
       "C43  521  0.002354\n",
       "C44  531  0.002064\n",
       "C45  539  0.001858"
      ]
     },
     "execution_count": 50,
     "metadata": {},
     "output_type": "execute_result"
    }
   ],
   "source": [
    "P_1['Zcn'] = pd.DataFrame(np.exp(A+B_solution[0]*P_1['MW']))\n",
    "P_1"
   ]
  },
  {
   "cell_type": "code",
   "execution_count": 59,
   "id": "486edd10",
   "metadata": {
    "ExecuteTime": {
     "end_time": "2023-07-12T04:32:32.821869Z",
     "start_time": "2023-07-12T04:32:32.804403Z"
    },
    "hidden": true
   },
   "outputs": [
    {
     "name": "stdout",
     "output_type": "stream",
     "text": [
      "Zc20+ =  0.40742893908662275\n"
     ]
    }
   ],
   "source": [
    "Zc_20_plus = np.sum(P_1.loc['C20':'C45']['Zcn'])\n",
    "print('Zc20+ = ', Zc_20_plus)"
   ]
  },
  {
   "cell_type": "markdown",
   "id": "10a68850",
   "metadata": {
    "heading_collapsed": true
   },
   "source": [
    "# Example 6-4\n",
    "Describe the C7+ fraction of the fluid in Example 6.3 by a continuous function in terms of the molecular weight, and use it to estimate the mole fraction of SCN groups comprising the C7+ fraction. "
   ]
  },
  {
   "cell_type": "code",
   "execution_count": 1,
   "id": "a3dd2232",
   "metadata": {
    "ExecuteTime": {
     "end_time": "2023-07-12T04:38:55.287186Z",
     "start_time": "2023-07-12T04:38:55.264088Z"
    },
    "hidden": true
   },
   "outputs": [
    {
     "name": "stdout",
     "output_type": "stream",
     "text": [
      "Beta: 75.0\n"
     ]
    }
   ],
   "source": [
    "split = 45\n",
    "Md = 165\n",
    "tau = 90\n",
    "gamma = 1\n",
    "Beta = (Md - tau)/gamma\n",
    "Mn = np.array([90 , 101.5, 114 , 127.5, 140.5, 154 , 168, 182.5, 198, 214, 229.5, 244, 257, 269, 283, 295.5, 306, 318, 330.5, 343, 354.5, 366, 377, 388, 399, 409.5, 420.5, 431.5, 441, 450.5, 460, 469.5, 479.5, 489.5, 498.5, 507, 516.5, 526, 535, 544])\n",
    "print('Beta:', Beta)"
   ]
  },
  {
   "cell_type": "code",
   "execution_count": 9,
   "id": "3d372f3e",
   "metadata": {
    "ExecuteTime": {
     "end_time": "2023-07-12T04:40:49.672934Z",
     "start_time": "2023-07-12T04:40:49.655011Z"
    },
    "hidden": true
   },
   "outputs": [
    {
     "name": "stdout",
     "output_type": "stream",
     "text": [
      "Sum Zcn: 3.910787939039456\n"
     ]
    }
   ],
   "source": [
    "Zcn = np.zeros(split-7+1)\n",
    "for i in range(split-7+1):\n",
    "    Mn_plus = Mn[i+1]\n",
    "    Mn_minus = Mn[i]\n",
    "    Zcn[i] = -np.exp(tau/Beta) * (np.exp(-Mn_plus/Beta) - np.exp(-Mn_minus/Beta)) \n",
    "print('Sum Zcn:', (Zcn * 3.92).sum())"
   ]
  },
  {
   "cell_type": "code",
   "execution_count": 10,
   "id": "41ca7e50",
   "metadata": {
    "ExecuteTime": {
     "end_time": "2023-07-12T04:40:56.766837Z",
     "start_time": "2023-07-12T04:40:56.757836Z"
    },
    "hidden": true
   },
   "outputs": [],
   "source": [
    "Mcn = np.zeros(split-7+1)\n",
    "for i in range(split-7+1):\n",
    "    Mn_plus = Mn[i+1]\n",
    "    Mn_minus = Mn[i]\n",
    "    Mcn[i] = -Beta * np.exp(tau/Beta) * ( ((Mn_plus/Beta)+1) * np.exp(-Mn_plus/Beta) - ((Mn_minus/Beta)+1) * np.exp(-Mn_minus/Beta) ) / Zcn[i]"
   ]
  },
  {
   "cell_type": "code",
   "execution_count": 13,
   "id": "81e8c434",
   "metadata": {
    "ExecuteTime": {
     "end_time": "2023-07-12T04:42:36.937114Z",
     "start_time": "2023-07-12T04:42:36.924148Z"
    },
    "hidden": true
   },
   "outputs": [],
   "source": [
    "# The mole fraction of C45 has been adjusted to make the total mole equal to 3.92%, \n",
    "Zcn[-1] = Zcn[-1] + (1 - Zcn.sum()) "
   ]
  },
  {
   "cell_type": "code",
   "execution_count": 18,
   "id": "f3472e94",
   "metadata": {
    "ExecuteTime": {
     "end_time": "2023-07-12T04:44:09.782772Z",
     "start_time": "2023-07-12T04:44:09.757839Z"
    },
    "hidden": true
   },
   "outputs": [
    {
     "data": {
      "text/html": [
       "<div>\n",
       "<style scoped>\n",
       "    .dataframe tbody tr th:only-of-type {\n",
       "        vertical-align: middle;\n",
       "    }\n",
       "\n",
       "    .dataframe tbody tr th {\n",
       "        vertical-align: top;\n",
       "    }\n",
       "\n",
       "    .dataframe thead th {\n",
       "        text-align: right;\n",
       "    }\n",
       "</style>\n",
       "<table border=\"1\" class=\"dataframe\">\n",
       "  <thead>\n",
       "    <tr style=\"text-align: right;\">\n",
       "      <th></th>\n",
       "      <th>MW</th>\n",
       "      <th>Zcn_Normalized</th>\n",
       "      <th>Zcn</th>\n",
       "    </tr>\n",
       "  </thead>\n",
       "  <tbody>\n",
       "    <tr>\n",
       "      <th>C7</th>\n",
       "      <td>95.603113</td>\n",
       "      <td>0.142156</td>\n",
       "      <td>0.557253</td>\n",
       "    </tr>\n",
       "    <tr>\n",
       "      <th>C8</th>\n",
       "      <td>107.576469</td>\n",
       "      <td>0.131695</td>\n",
       "      <td>0.516243</td>\n",
       "    </tr>\n",
       "    <tr>\n",
       "      <th>C9</th>\n",
       "      <td>120.547609</td>\n",
       "      <td>0.119618</td>\n",
       "      <td>0.468904</td>\n",
       "    </tr>\n",
       "    <tr>\n",
       "      <th>C10</th>\n",
       "      <td>133.812316</td>\n",
       "      <td>0.096525</td>\n",
       "      <td>0.378378</td>\n",
       "    </tr>\n",
       "    <tr>\n",
       "      <th>C11</th>\n",
       "      <td>147.047609</td>\n",
       "      <td>0.084013</td>\n",
       "      <td>0.329331</td>\n",
       "    </tr>\n",
       "    <tr>\n",
       "      <th>C12</th>\n",
       "      <td>160.782349</td>\n",
       "      <td>0.072538</td>\n",
       "      <td>0.284349</td>\n",
       "    </tr>\n",
       "    <tr>\n",
       "      <th>C13</th>\n",
       "      <td>175.016534</td>\n",
       "      <td>0.062135</td>\n",
       "      <td>0.243568</td>\n",
       "    </tr>\n",
       "    <tr>\n",
       "      <th>C14</th>\n",
       "      <td>189.983245</td>\n",
       "      <td>0.054392</td>\n",
       "      <td>0.213217</td>\n",
       "    </tr>\n",
       "    <tr>\n",
       "      <th>C15</th>\n",
       "      <td>205.715771</td>\n",
       "      <td>0.045517</td>\n",
       "      <td>0.178426</td>\n",
       "    </tr>\n",
       "    <tr>\n",
       "      <th>C16</th>\n",
       "      <td>221.483245</td>\n",
       "      <td>0.035738</td>\n",
       "      <td>0.140094</td>\n",
       "    </tr>\n",
       "    <tr>\n",
       "      <th>C17</th>\n",
       "      <td>236.516534</td>\n",
       "      <td>0.027366</td>\n",
       "      <td>0.107275</td>\n",
       "    </tr>\n",
       "    <tr>\n",
       "      <th>C18</th>\n",
       "      <td>250.312316</td>\n",
       "      <td>0.020419</td>\n",
       "      <td>0.080043</td>\n",
       "    </tr>\n",
       "    <tr>\n",
       "      <th>C19</th>\n",
       "      <td>262.840068</td>\n",
       "      <td>0.015952</td>\n",
       "      <td>0.062531</td>\n",
       "    </tr>\n",
       "    <tr>\n",
       "      <th>C20</th>\n",
       "      <td>275.782349</td>\n",
       "      <td>0.015655</td>\n",
       "      <td>0.061367</td>\n",
       "    </tr>\n",
       "    <tr>\n",
       "      <th>C21</th>\n",
       "      <td>289.076469</td>\n",
       "      <td>0.011711</td>\n",
       "      <td>0.045905</td>\n",
       "    </tr>\n",
       "    <tr>\n",
       "      <th>C22</th>\n",
       "      <td>300.627540</td>\n",
       "      <td>0.008436</td>\n",
       "      <td>0.033067</td>\n",
       "    </tr>\n",
       "    <tr>\n",
       "      <th>C23</th>\n",
       "      <td>311.840068</td>\n",
       "      <td>0.008300</td>\n",
       "      <td>0.032536</td>\n",
       "    </tr>\n",
       "    <tr>\n",
       "      <th>C24</th>\n",
       "      <td>324.076469</td>\n",
       "      <td>0.007344</td>\n",
       "      <td>0.028787</td>\n",
       "    </tr>\n",
       "    <tr>\n",
       "      <th>C25</th>\n",
       "      <td>336.576469</td>\n",
       "      <td>0.006216</td>\n",
       "      <td>0.024367</td>\n",
       "    </tr>\n",
       "    <tr>\n",
       "      <th>C26</th>\n",
       "      <td>348.603113</td>\n",
       "      <td>0.004872</td>\n",
       "      <td>0.019100</td>\n",
       "    </tr>\n",
       "    <tr>\n",
       "      <th>C27</th>\n",
       "      <td>360.103113</td>\n",
       "      <td>0.004180</td>\n",
       "      <td>0.016385</td>\n",
       "    </tr>\n",
       "    <tr>\n",
       "      <th>C28</th>\n",
       "      <td>371.365604</td>\n",
       "      <td>0.003441</td>\n",
       "      <td>0.013488</td>\n",
       "    </tr>\n",
       "    <tr>\n",
       "      <th>C29</th>\n",
       "      <td>382.365604</td>\n",
       "      <td>0.002971</td>\n",
       "      <td>0.011648</td>\n",
       "    </tr>\n",
       "    <tr>\n",
       "      <th>C30</th>\n",
       "      <td>393.365604</td>\n",
       "      <td>0.002566</td>\n",
       "      <td>0.010059</td>\n",
       "    </tr>\n",
       "    <tr>\n",
       "      <th>C31</th>\n",
       "      <td>404.127540</td>\n",
       "      <td>0.002122</td>\n",
       "      <td>0.008319</td>\n",
       "    </tr>\n",
       "    <tr>\n",
       "      <th>C32</th>\n",
       "      <td>414.865604</td>\n",
       "      <td>0.001927</td>\n",
       "      <td>0.007552</td>\n",
       "    </tr>\n",
       "    <tr>\n",
       "      <th>C33</th>\n",
       "      <td>425.865604</td>\n",
       "      <td>0.001664</td>\n",
       "      <td>0.006522</td>\n",
       "    </tr>\n",
       "    <tr>\n",
       "      <th>C34</th>\n",
       "      <td>436.149749</td>\n",
       "      <td>0.001253</td>\n",
       "      <td>0.004912</td>\n",
       "    </tr>\n",
       "    <tr>\n",
       "      <th>C35</th>\n",
       "      <td>445.649749</td>\n",
       "      <td>0.001104</td>\n",
       "      <td>0.004327</td>\n",
       "    </tr>\n",
       "    <tr>\n",
       "      <th>C36</th>\n",
       "      <td>455.149749</td>\n",
       "      <td>0.000973</td>\n",
       "      <td>0.003813</td>\n",
       "    </tr>\n",
       "    <tr>\n",
       "      <th>C37</th>\n",
       "      <td>464.649749</td>\n",
       "      <td>0.000857</td>\n",
       "      <td>0.003359</td>\n",
       "    </tr>\n",
       "    <tr>\n",
       "      <th>C38</th>\n",
       "      <td>474.388922</td>\n",
       "      <td>0.000792</td>\n",
       "      <td>0.003105</td>\n",
       "    </tr>\n",
       "    <tr>\n",
       "      <th>C39</th>\n",
       "      <td>484.388922</td>\n",
       "      <td>0.000693</td>\n",
       "      <td>0.002717</td>\n",
       "    </tr>\n",
       "    <tr>\n",
       "      <th>C40</th>\n",
       "      <td>493.910022</td>\n",
       "      <td>0.000550</td>\n",
       "      <td>0.002154</td>\n",
       "    </tr>\n",
       "    <tr>\n",
       "      <th>C41</th>\n",
       "      <td>502.669739</td>\n",
       "      <td>0.000462</td>\n",
       "      <td>0.001811</td>\n",
       "    </tr>\n",
       "    <tr>\n",
       "      <th>C42</th>\n",
       "      <td>511.649749</td>\n",
       "      <td>0.000458</td>\n",
       "      <td>0.001795</td>\n",
       "    </tr>\n",
       "    <tr>\n",
       "      <th>C43</th>\n",
       "      <td>521.149749</td>\n",
       "      <td>0.000403</td>\n",
       "      <td>0.001581</td>\n",
       "    </tr>\n",
       "    <tr>\n",
       "      <th>C44</th>\n",
       "      <td>530.410022</td>\n",
       "      <td>0.000338</td>\n",
       "      <td>0.001324</td>\n",
       "    </tr>\n",
       "    <tr>\n",
       "      <th>C45</th>\n",
       "      <td>539.410022</td>\n",
       "      <td>0.002650</td>\n",
       "      <td>0.010387</td>\n",
       "    </tr>\n",
       "  </tbody>\n",
       "</table>\n",
       "</div>"
      ],
      "text/plain": [
       "             MW  Zcn_Normalized       Zcn\n",
       "C7    95.603113        0.142156  0.557253\n",
       "C8   107.576469        0.131695  0.516243\n",
       "C9   120.547609        0.119618  0.468904\n",
       "C10  133.812316        0.096525  0.378378\n",
       "C11  147.047609        0.084013  0.329331\n",
       "C12  160.782349        0.072538  0.284349\n",
       "C13  175.016534        0.062135  0.243568\n",
       "C14  189.983245        0.054392  0.213217\n",
       "C15  205.715771        0.045517  0.178426\n",
       "C16  221.483245        0.035738  0.140094\n",
       "C17  236.516534        0.027366  0.107275\n",
       "C18  250.312316        0.020419  0.080043\n",
       "C19  262.840068        0.015952  0.062531\n",
       "C20  275.782349        0.015655  0.061367\n",
       "C21  289.076469        0.011711  0.045905\n",
       "C22  300.627540        0.008436  0.033067\n",
       "C23  311.840068        0.008300  0.032536\n",
       "C24  324.076469        0.007344  0.028787\n",
       "C25  336.576469        0.006216  0.024367\n",
       "C26  348.603113        0.004872  0.019100\n",
       "C27  360.103113        0.004180  0.016385\n",
       "C28  371.365604        0.003441  0.013488\n",
       "C29  382.365604        0.002971  0.011648\n",
       "C30  393.365604        0.002566  0.010059\n",
       "C31  404.127540        0.002122  0.008319\n",
       "C32  414.865604        0.001927  0.007552\n",
       "C33  425.865604        0.001664  0.006522\n",
       "C34  436.149749        0.001253  0.004912\n",
       "C35  445.649749        0.001104  0.004327\n",
       "C36  455.149749        0.000973  0.003813\n",
       "C37  464.649749        0.000857  0.003359\n",
       "C38  474.388922        0.000792  0.003105\n",
       "C39  484.388922        0.000693  0.002717\n",
       "C40  493.910022        0.000550  0.002154\n",
       "C41  502.669739        0.000462  0.001811\n",
       "C42  511.649749        0.000458  0.001795\n",
       "C43  521.149749        0.000403  0.001581\n",
       "C44  530.410022        0.000338  0.001324\n",
       "C45  539.410022        0.002650  0.010387"
      ]
     },
     "execution_count": 18,
     "metadata": {},
     "output_type": "execute_result"
    }
   ],
   "source": [
    "pd.DataFrame({'MW':Mcn, 'Zcn_Normalized':Zcn , 'Zcn': 3.92*Zcn}, index=[f'C{i+7}' for i in np.arange(39)])"
   ]
  },
  {
   "cell_type": "markdown",
   "id": "05b422e7",
   "metadata": {
    "heading_collapsed": true
   },
   "source": [
    "# Example 6-5\n",
    "Describe the C7+ fraction of the fluid in Example 6.3 with 4 pseudo components using the quadrature method. "
   ]
  },
  {
   "cell_type": "code",
   "execution_count": 19,
   "id": "0f516913",
   "metadata": {
    "ExecuteTime": {
     "end_time": "2023-07-12T04:53:25.508961Z",
     "start_time": "2023-07-12T04:53:25.489568Z"
    },
    "hidden": true
   },
   "outputs": [],
   "source": [
    "def G(gamma):\n",
    "    A = np.array([-0.577191652, 0.988205891, -0.897056937, 0.918206857,\n",
    "                  -0.756704078, 0.482199394, -0.193527818, 0.035868343])\n",
    "    s = 0\n",
    "    for i in range(8):\n",
    "        s = s + A[i] * (gamma-1)**(i+1)\n",
    "    return 1 + s"
   ]
  },
  {
   "cell_type": "code",
   "execution_count": 23,
   "id": "17af34c2",
   "metadata": {
    "ExecuteTime": {
     "end_time": "2023-07-12T05:01:43.315198Z",
     "start_time": "2023-07-12T05:01:43.303471Z"
    },
    "hidden": true
   },
   "outputs": [
    {
     "name": "stdout",
     "output_type": "stream",
     "text": [
      "G(gamma): 1.0\n",
      "X: 1.0\n"
     ]
    }
   ],
   "source": [
    "gamma = 1\n",
    "Md = 165\n",
    "tau = 90\n",
    "gamma = 1\n",
    "Beta = (Md - tau)/gamma\n",
    "X = (Md - tau)/Beta\n",
    "print('G(gamma):',G(gamma))\n",
    "print('X:', X)"
   ]
  },
  {
   "cell_type": "code",
   "execution_count": 27,
   "id": "3e1539ef",
   "metadata": {
    "ExecuteTime": {
     "end_time": "2023-07-12T05:04:23.585641Z",
     "start_time": "2023-07-12T05:04:23.572674Z"
    },
    "hidden": true
   },
   "outputs": [
    {
     "data": {
      "text/plain": [
       "array([6.032e-01, 3.574e-01, 3.890e-02, 5.000e-04])"
      ]
     },
     "execution_count": 27,
     "metadata": {},
     "output_type": "execute_result"
    }
   ],
   "source": [
    "wk = np.array([0.6032, 0.3574, 0.0389, 0.0005])\n",
    "zk = wk\n",
    "zk"
   ]
  },
  {
   "cell_type": "code",
   "execution_count": 28,
   "id": "87513e33",
   "metadata": {
    "ExecuteTime": {
     "end_time": "2023-07-12T05:06:22.671521Z",
     "start_time": "2023-07-12T05:06:22.657530Z"
    },
    "hidden": true
   },
   "outputs": [
    {
     "data": {
      "text/plain": [
       "array([114.195 , 220.935 , 430.245 , 794.6325])"
      ]
     },
     "execution_count": 28,
     "metadata": {},
     "output_type": "execute_result"
    }
   ],
   "source": [
    "Xk = np.array([0.3226, 1.7458, 4.5366, 9.3951])\n",
    "Mk = Xk*Beta + tau\n",
    "Mk"
   ]
  },
  {
   "cell_type": "code",
   "execution_count": null,
   "id": "585c6ba7",
   "metadata": {
    "hidden": true
   },
   "outputs": [],
   "source": []
  }
 ],
 "metadata": {
  "kernelspec": {
   "display_name": "Python 3 (ipykernel)",
   "language": "python",
   "name": "python3"
  },
  "language_info": {
   "codemirror_mode": {
    "name": "ipython",
    "version": 3
   },
   "file_extension": ".py",
   "mimetype": "text/x-python",
   "name": "python",
   "nbconvert_exporter": "python",
   "pygments_lexer": "ipython3",
   "version": "3.9.12"
  },
  "toc": {
   "base_numbering": 1,
   "nav_menu": {},
   "number_sections": true,
   "sideBar": true,
   "skip_h1_title": false,
   "title_cell": "Table of Contents",
   "title_sidebar": "Contents",
   "toc_cell": false,
   "toc_position": {},
   "toc_section_display": true,
   "toc_window_display": false
  },
  "varInspector": {
   "cols": {
    "lenName": 16,
    "lenType": 16,
    "lenVar": 40
   },
   "kernels_config": {
    "python": {
     "delete_cmd_postfix": "",
     "delete_cmd_prefix": "del ",
     "library": "var_list.py",
     "varRefreshCmd": "print(var_dic_list())"
    },
    "r": {
     "delete_cmd_postfix": ") ",
     "delete_cmd_prefix": "rm(",
     "library": "var_list.r",
     "varRefreshCmd": "cat(var_dic_list()) "
    }
   },
   "types_to_exclude": [
    "module",
    "function",
    "builtin_function_or_method",
    "instance",
    "_Feature"
   ],
   "window_display": false
  }
 },
 "nbformat": 4,
 "nbformat_minor": 5
}
